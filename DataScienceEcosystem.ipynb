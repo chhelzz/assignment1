{
 "cells": [
  {
   "cell_type": "code",
   "execution_count": 24,
   "id": "71b9abd0-76f2-4d11-a112-8b8161368182",
   "metadata": {
    "tags": []
   },
   "outputs": [],
   "source": [
    "# final assignment in \"Tools for Data Science\""
   ]
  },
  {
   "cell_type": "markdown",
   "id": "c7daf51d-baa0-4258-a5d2-518280c32eef",
   "metadata": {
    "tags": []
   },
   "source": [
    "# Data Science Tools and Ecosystem"
   ]
  },
  {
   "cell_type": "markdown",
   "id": "82c0a9db-3b3f-44f7-b6c5-eac42f5ce67e",
   "metadata": {},
   "source": [
    "In this notebook, Data Science Tools and Ecosystem are summarised."
   ]
  },
  {
   "cell_type": "markdown",
   "id": "b030e16a-f6b8-4795-a3f0-92c5ecc0a16e",
   "metadata": {},
   "source": [
    "**Objectives:**\n",
    "- List popular languages for Data Science\n",
    "- List popular libraries for Data Science\n",
    "- List development environment open-source tools used in Data Science\n",
    "- Demonstrate arithmetic expressions in Python"
   ]
  },
  {
   "cell_type": "markdown",
   "id": "3f5924ad-c23c-4423-8dcf-1710dac2b656",
   "metadata": {},
   "source": [
    "Some of the popular languages that Data Scientists use are:\n",
    "1. Python\n",
    "2. R\n",
    "3. SQL\n",
    "4. Java\n",
    "5. Scala\n",
    "6. C++"
   ]
  },
  {
   "cell_type": "markdown",
   "id": "13f90e4b-eb22-4ed3-9fec-3e2f94c9e89a",
   "metadata": {},
   "source": [
    "Some of the more commonly used libraries used by Data Scientists include:\n",
    "1. scientific\n",
    "2. visualisation\n",
    "3. machine learning\n",
    "4. deep learning"
   ]
  },
  {
   "cell_type": "markdown",
   "id": "a85a9aa0-7a11-4d8f-b80d-b392db2c5c70",
   "metadata": {},
   "source": [
    "| Data Science Tools |\n",
    "| ------------------ |\n",
    "| Jupyter Notebooks |\n",
    "| RStudio |\n",
    "| IBM Watson Studio |"
   ]
  },
  {
   "cell_type": "markdown",
   "id": "459b03ab-d405-4159-8e7a-5449f5de1f3a",
   "metadata": {},
   "source": [
    "### Below are a few examples of evaluating arithmetic expressions in Python"
   ]
  },
  {
   "cell_type": "code",
   "execution_count": 34,
   "id": "9a8564bd-8dda-4776-aaad-2f33a3a19dab",
   "metadata": {
    "tags": []
   },
   "outputs": [
    {
     "data": {
      "text/plain": [
       "17"
      ]
     },
     "execution_count": 34,
     "metadata": {},
     "output_type": "execute_result"
    }
   ],
   "source": [
    "# This is a simple arithmetic expression to multiply, then add integers\n",
    "\n",
    "(3*4)+5"
   ]
  },
  {
   "cell_type": "code",
   "execution_count": 36,
   "id": "66bce61d-2936-4bee-81f6-bcb673c62c7f",
   "metadata": {
    "tags": []
   },
   "outputs": [
    {
     "data": {
      "text/plain": [
       "3.3333333333333335"
      ]
     },
     "execution_count": 36,
     "metadata": {},
     "output_type": "execute_result"
    }
   ],
   "source": [
    "# This will convert 200 minutes to hours by dividing by 60\n",
    "\n",
    "200/60"
   ]
  },
  {
   "cell_type": "markdown",
   "id": "e9a46bb1-6d74-410f-b7be-042debbc8ee3",
   "metadata": {
    "tags": []
   },
   "source": [
    "## Author\n",
    "Chelsea Hudson"
   ]
  }
 ],
 "metadata": {
  "kernelspec": {
   "display_name": "Python 3 (ipykernel)",
   "language": "python",
   "name": "python3"
  },
  "language_info": {
   "codemirror_mode": {
    "name": "ipython",
    "version": 3
   },
   "file_extension": ".py",
   "mimetype": "text/x-python",
   "name": "python",
   "nbconvert_exporter": "python",
   "pygments_lexer": "ipython3",
   "version": "3.11.0"
  }
 },
 "nbformat": 4,
 "nbformat_minor": 5
}
